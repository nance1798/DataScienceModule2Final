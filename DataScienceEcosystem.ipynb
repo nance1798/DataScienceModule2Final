{
 "cells": [
  {
   "cell_type": "markdown",
   "id": "587282f2-289f-47f2-9cac-a5295da2e17b",
   "metadata": {},
   "source": [
    "# Data Science Tools and Ecosystems"
   ]
  },
  {
   "cell_type": "markdown",
   "id": "bf25b646-27a2-4362-a7a8-f3504c6047a2",
   "metadata": {},
   "source": [
    "### In this notebook, Data Science Tools and Ecosystems are summarized"
   ]
  },
  {
   "cell_type": "markdown",
   "id": "ed349c61-a4ab-4a38-ad78-dd67ec7eb103",
   "metadata": {},
   "source": [
    "##### Some of the popular languages that Data Scientists use are:\n",
    "1. Python\n",
    "2. R\n",
    "3. C++\n",
    "4. Java\n",
    "5. Julia\n",
    "6. SQL\n",
    "7. Javascript"
   ]
  },
  {
   "cell_type": "markdown",
   "id": "1124100b-d4ac-4f34-afbe-bd01853cc52a",
   "metadata": {},
   "source": [
    "##### Some of the commonly used libraries used by Data Scientists include:\n",
    "1. Pandas\n",
    "2. TensorFlow\n",
    "3. NumPy\n",
    "4. PyTorch\n",
    "5. SciKit-learn\n",
    "6. Keras"
   ]
  },
  {
   "cell_type": "markdown",
   "id": "82377599-cfff-426a-88da-17992bf8579b",
   "metadata": {},
   "source": [
    "|Data Science Tools|\n",
    "|------------------|\n",
    "|Apache Spark|\n",
    "|Matplotlib|\n",
    "|Jupyter|"
   ]
  },
  {
   "cell_type": "markdown",
   "id": "d49a020b-e2d0-4745-9903-abdd2d1d04c4",
   "metadata": {},
   "source": [
    "### Below are a few examples of evaluating arithmetic expressions in Python"
   ]
  },
  {
   "cell_type": "code",
   "execution_count": 1,
   "id": "143555c6-d1ab-4250-adfd-e58e79ed0627",
   "metadata": {
    "tags": []
   },
   "outputs": [
    {
     "data": {
      "text/plain": [
       "17"
      ]
     },
     "execution_count": 1,
     "metadata": {},
     "output_type": "execute_result"
    }
   ],
   "source": [
    "## This a simple arithmetic expression to mutiply then add integers\n",
    "(3 * 4) + 5"
   ]
  },
  {
   "cell_type": "code",
   "execution_count": 2,
   "id": "baa0e138-bb8c-48ff-b8c2-02d38bc43cd8",
   "metadata": {
    "tags": []
   },
   "outputs": [
    {
     "data": {
      "text/plain": [
       "3.3333333333333335"
      ]
     },
     "execution_count": 2,
     "metadata": {},
     "output_type": "execute_result"
    }
   ],
   "source": [
    "##  This will convert 200 minutes to hours by diving by 60\n",
    "200 / 60"
   ]
  },
  {
   "cell_type": "markdown",
   "id": "15aecef0-ceaa-4083-a92c-d48d9a2c2236",
   "metadata": {},
   "source": [
    "### **Objectives:**\n",
    "- Popular languages for data science\n",
    "- Popular libraries for data science\n",
    "- Popular tools for data science\n",
    "- Mathematical Operations on Jupyter Notebook"
   ]
  },
  {
   "cell_type": "markdown",
   "id": "3ca42f1b-69ac-42e7-98ee-7d1196c83415",
   "metadata": {},
   "source": [
    "## Author\n",
    "Liam Nance"
   ]
  },
  {
   "cell_type": "code",
   "execution_count": null,
   "id": "07a6bf72-446b-475a-9823-29903d00f1f8",
   "metadata": {},
   "outputs": [],
   "source": []
  }
 ],
 "metadata": {
  "kernelspec": {
   "display_name": "Python",
   "language": "python",
   "name": "conda-env-python-py"
  },
  "language_info": {
   "codemirror_mode": {
    "name": "ipython",
    "version": 3
   },
   "file_extension": ".py",
   "mimetype": "text/x-python",
   "name": "python",
   "nbconvert_exporter": "python",
   "pygments_lexer": "ipython3",
   "version": "3.7.12"
  }
 },
 "nbformat": 4,
 "nbformat_minor": 5
}
